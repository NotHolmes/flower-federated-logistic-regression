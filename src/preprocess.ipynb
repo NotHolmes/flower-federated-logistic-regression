{
 "cells": [
  {
   "cell_type": "code",
   "execution_count": 101,
   "metadata": {},
   "outputs": [],
   "source": [
    "import pandas as pd\n",
    "import numpy as np\n",
    "import category_encoders as ce\n",
    "from sklearn.preprocessing import LabelEncoder\n",
    "from sklearn.model_selection import train_test_split\n",
    "from imblearn.over_sampling import SMOTE\n",
    "from sklearn.linear_model import LogisticRegression\n",
    "from sklearn.metrics import classification_report\n",
    "from sklearn.preprocessing import StandardScaler\n",
    "\n",
    "from sklearn.metrics import ConfusionMatrixDisplay, classification_report, precision_score, recall_score, accuracy_score, f1_score"
   ]
  },
  {
   "cell_type": "code",
   "execution_count": 68,
   "metadata": {},
   "outputs": [
    {
     "name": "stderr",
     "output_type": "stream",
     "text": [
      "/var/folders/cf/h6s9q7h52p52lmfbv8wmh20h0000gn/T/ipykernel_64781/219089285.py:2: DtypeWarning: Columns (26) have mixed types. Specify dtype option on import or set low_memory=False.\n",
      "  data = pd.read_csv(\"../dataset/original/train.csv\", sep=\",\", encoding='utf-8', na_values=['_', '_______', '#F%$D@*&8', '!@9#%8', 'nan'])\n"
     ]
    }
   ],
   "source": [
    "# Load the dataset \n",
    "data = pd.read_csv(\"../dataset/original/train.csv\", sep=\",\", encoding='utf-8', na_values=['_', '_______', '#F%$D@*&8', '!@9#%8', 'nan'])"
   ]
  },
  {
   "cell_type": "code",
   "execution_count": 69,
   "metadata": {},
   "outputs": [],
   "source": [
    "# Converting to Numeric representation\n",
    "features_to_be_num = ['Age', 'Num_of_Loan']\n",
    "for feature in features_to_be_num:\n",
    "  data[feature] = data[feature].str.extract('(\\d+)').astype(int) # Modify df\n",
    "\n",
    "features_to_be_num = ['Outstanding_Debt','Annual_Income','Amount_invested_monthly','Monthly_Balance']\n",
    "for feature in features_to_be_num:\n",
    "  data[feature] = data[feature].str.extract(r'(\\d+\\.\\d+)').astype(float)\n",
    "\n",
    "data['Num_of_Delayed_Payment'] = data['Num_of_Delayed_Payment'].str.extract('(\\d+)').astype(float) # Modify df\n",
    "\n",
    "# get customer id for nan values in Name Column\n",
    "Customer_IDs = data[data['Name'].isnull()]['Customer_ID'].values\n",
    "\n",
    "#### Changed Credit Limit\n",
    "data['Changed_Credit_Limit'] = data.groupby('Customer_ID')['Changed_Credit_Limit'].transform(lambda x: x.interpolate(method='index', limit_direction='both')) # Modify df\n",
    "\n",
    "#### Num Credit Inquiries\n",
    "data['Num_Credit_Inquiries'] = data.groupby('Customer_ID')['Num_Credit_Inquiries'].transform(\n",
    "    lambda x: x.interpolate(method='index', limit_direction='both') if x.count() > 1 else x) # Modify df\n",
    "\n",
    "#### Credit Mix\n",
    "# Create a dictionary to map Customer_ID to non-null Credit_Mix values\n",
    "Credit_Mix_mapping = data.dropna(subset=['Credit_Mix']).set_index('Customer_ID')['Credit_Mix'].to_dict()\n",
    "\n",
    "# Fill missing Credit_Mix values based on Customer_ID\n",
    "data['Credit_Mix'] = data.apply(lambda row: Credit_Mix_mapping.get(row['Customer_ID'], row['Credit_Mix']), axis=1) # Modify df\n",
    "\n",
    "#### Num of Delayed Payment\n",
    "data['Num_of_Delayed_Payment'] = data.groupby('Customer_ID')['Num_of_Delayed_Payment'].transform(\n",
    "    lambda x: x.interpolate(method='index', limit_direction='both') if x.count() > 1 else x) # Modify df "
   ]
  },
  {
   "cell_type": "code",
   "execution_count": 70,
   "metadata": {},
   "outputs": [],
   "source": [
    "def Month_Converter(x):\n",
    "    if pd.notnull(x):\n",
    "        num1 = int(x.split(' ')[0])\n",
    "        num2 = int(x.split(' ')[3])\n",
    "      \n",
    "        return (num1*12)+num2\n",
    "    else:\n",
    "        return x"
   ]
  },
  {
   "cell_type": "code",
   "execution_count": 71,
   "metadata": {},
   "outputs": [],
   "source": [
    "data.Month = pd.to_datetime(data.Month,format=\"%B\").dt.month\n",
    "data.Month = data.Month.astype(np.int64)"
   ]
  },
  {
   "cell_type": "code",
   "execution_count": 72,
   "metadata": {},
   "outputs": [],
   "source": [
    "#### Monthly Inhand Salary\n",
    "# Create a dictionary to map Customer_ID to non-null Monthly_Inhand_Salary values\n",
    "Monthly_Inhand_Salary_mapping = data.dropna(subset=['Monthly_Inhand_Salary']).set_index('Customer_ID')['Monthly_Inhand_Salary'].to_dict()\n",
    "\n",
    "# Fill missing Monthly_Inhand_Salary values based on Customer_ID\n",
    "data['Monthly_Inhand_Salary'] = data.apply(lambda row: Monthly_Inhand_Salary_mapping.get(row['Customer_ID'], row['Monthly_Inhand_Salary']), axis=1) # Modify df\n",
    "\n",
    "#### Amount_invested_monthly\n",
    "data['Amount_invested_monthly'] = data.groupby('Customer_ID')['Amount_invested_monthly'].transform(\n",
    "    lambda x: x.interpolate(method='index', limit_direction='both') if x.count() > 1 else x) # Modify df\n",
    "\n",
    "#### Payment Behaviour\n",
    "# Define a custom function to calculate mode with handling for NaN values\n",
    "def custom_mode(series):\n",
    "  mode_values = series.dropna().mode()\n",
    "  if mode_values.empty:\n",
    "    return np.nan\n",
    "  return mode_values.iloc[0]\n",
    "\n",
    "# Calculate the mode payment behavior for each customer\n",
    "customer_mode_payment = data.groupby('Customer_ID')['Payment_Behaviour'].transform(custom_mode)\n",
    "\n",
    "# Fill missing values with the corresponding customer's mode payment behavior\n",
    "data['Payment_Behaviour'] = data['Payment_Behaviour'].fillna(customer_mode_payment) # Modify df\n",
    "\n",
    "#### Monthly Balance\n",
    "data['Monthly_Balance'] = data.groupby('Customer_ID')['Monthly_Balance'].transform(\n",
    "    lambda x: x.interpolate(method='index', limit_direction='both') if x.count() > 1 else x) # Modify df\n",
    "\n",
    "#### Credit History Age\n",
    "data.Credit_History_Age = data.Credit_History_Age.apply(lambda x: Month_Converter(x)).astype(np.float64) # Modify df\n",
    "data['Credit_History_Age'] = data.groupby('Customer_ID')['Credit_History_Age'].transform(\n",
    "    lambda x: x.interpolate(method='index', limit_direction='both') if x.count() > 1 else x) # Modify df "
   ]
  },
  {
   "cell_type": "markdown",
   "metadata": {},
   "source": [
    "# Encoding"
   ]
  },
  {
   "cell_type": "code",
   "execution_count": 84,
   "metadata": {},
   "outputs": [],
   "source": [
    "df = data.copy() \n",
    "df.columns\n",
    "df.ID = df.ID.apply(lambda x: int(x,16)).astype(np.int64)  # Modify df\n",
    "df.Customer_ID = df.Customer_ID.apply(lambda x: int(x[4:],16)).astype(np.int64)  # Modify df "
   ]
  },
  {
   "cell_type": "code",
   "execution_count": 85,
   "metadata": {},
   "outputs": [],
   "source": [
    "df['Credit_Score'] = LabelEncoder().fit_transform(df['Credit_Score'])"
   ]
  },
  {
   "cell_type": "code",
   "execution_count": 86,
   "metadata": {},
   "outputs": [],
   "source": [
    "columns = ['Payment_of_Min_Amount','Payment_Behaviour','Credit_Mix']\n",
    "for item in columns:\n",
    "    df[item] = ce.LeaveOneOutEncoder().fit_transform(df[item],df['Credit_Score'])"
   ]
  },
  {
   "cell_type": "code",
   "execution_count": 87,
   "metadata": {},
   "outputs": [],
   "source": [
    "columns2 =['Annual_Income','Age','Num_Credit_Card','Interest_Rate','Delay_from_due_date','Num_of_Delayed_Payment','Monthly_Balance',\n",
    "                           'Num_Credit_Inquiries','Changed_Credit_Limit','Credit_History_Age',\n",
    "                           'Outstanding_Debt','Total_EMI_per_month']\n",
    "for item in columns2:\n",
    "    mean_encoding = df.groupby([item])['Credit_Score'].mean()\n",
    "    df[item] = df[item].map(mean_encoding)"
   ]
  },
  {
   "cell_type": "code",
   "execution_count": 88,
   "metadata": {},
   "outputs": [],
   "source": [
    "columns =['ID', 'Customer_ID', 'SSN', 'Name', 'Occupation', 'Annual_Income', 'Type_of_Loan', 'Num_of_Loan', 'Outstanding_Debt']\n",
    "\n",
    "df.drop(columns, axis=1, inplace=True)\n",
    "df.dropna(inplace=True)"
   ]
  },
  {
   "cell_type": "code",
   "execution_count": 89,
   "metadata": {},
   "outputs": [],
   "source": [
    "X = df.drop('Credit_Score', axis=1)\n",
    "y = df.Credit_Score\n",
    "\n",
    "smote = SMOTE()\n",
    "X, y = smote.fit_resample(X,y)"
   ]
  },
  {
   "cell_type": "markdown",
   "metadata": {},
   "source": [
    "# Modeling"
   ]
  },
  {
   "cell_type": "code",
   "execution_count": 104,
   "metadata": {},
   "outputs": [],
   "source": [
    "X_train, X_test, y_train, y_test = train_test_split(X, y,test_size=0.2,shuffle=True,random_state=42)"
   ]
  },
  {
   "cell_type": "code",
   "execution_count": 113,
   "metadata": {},
   "outputs": [],
   "source": [
    "scaler = StandardScaler()\n",
    "features = X_train.columns\n",
    "X_train = scaler.fit_transform(X_train)\n",
    "X_train = pd.DataFrame(X_train,columns=features)\n",
    "X_test = scaler.transform(X_test)\n",
    "X_test = pd.DataFrame(X_test,columns=features)"
   ]
  },
  {
   "cell_type": "code",
   "execution_count": 112,
   "metadata": {},
   "outputs": [],
   "source": [
    "def train_and_evaluate_model(model):\n",
    "    model.fit(X_train,y_train)\n",
    "    y_pred = model.predict(X_test)\n",
    "    print(classification_report(y_test,y_pred))\n",
    "    acc = accuracy_score(y_test,y_pred)\n",
    "    y_pred_train = model.predict(X_train)\n",
    "    y_pred_test = model.predict(X_test)\n",
    "    train_acc = accuracy_score(y_train, y_pred_train)\n",
    "    test_acc = accuracy_score(y_test, y_pred_test)\n",
    "    print(\"Train Accuracy:\", train_acc)\n",
    "    print(\"Test Accuracy:\", test_acc)\n",
    "    precision = precision_score(y_test,y_pred,average='micro')\n",
    "    recall = recall_score(y_test,y_pred,average='micro')\n",
    "    f1 = f1_score(y_test,y_pred,average='micro')\n",
    "    ConfusionMatrixDisplay.from_predictions(y_test,y_pred)"
   ]
  },
  {
   "cell_type": "code",
   "execution_count": 114,
   "metadata": {},
   "outputs": [
    {
     "name": "stdout",
     "output_type": "stream",
     "text": [
      "              precision    recall  f1-score   support\n",
      "\n",
      "           0       1.00      1.00      1.00     10584\n",
      "           1       1.00      1.00      1.00     10363\n",
      "           2       1.00      1.00      1.00     10374\n",
      "\n",
      "    accuracy                           1.00     31321\n",
      "   macro avg       1.00      1.00      1.00     31321\n",
      "weighted avg       1.00      1.00      1.00     31321\n",
      "\n",
      "Train Accuracy: 0.9993694225826535\n",
      "Test Accuracy: 0.9996168704702915\n"
     ]
    },
    {
     "data": {
      "image/png": "[encoded data removed]",
      "text/plain": [
       "<Figure size 640x480 with 2 Axes>"
      ]
     },
     "metadata": {},
     "output_type": "display_data"
    }
   ],
   "source": [
    "train_and_evaluate_model(LogisticRegression())"
   ]
  }
 ],
 "metadata": {
  "kernelspec": {
   "display_name": "venv",
   "language": "python",
   "name": "python3"
  },
  "language_info": {
   "codemirror_mode": {
    "name": "ipython",
    "version": 3
   },
   "file_extension": ".py",
   "mimetype": "text/x-python",
   "name": "python",
   "nbconvert_exporter": "python",
   "pygments_lexer": "ipython3",
   "version": "3.11.5"
  }
 },
 "nbformat": 4,
 "nbformat_minor": 2
}
