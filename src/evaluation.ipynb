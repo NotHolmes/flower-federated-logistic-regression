{
 "cells": [
  {
   "cell_type": "code",
   "execution_count": null,
   "metadata": {},
   "outputs": [],
   "source": [
    "import pandas as pd\n",
    "from sklearn.linear_model import LogisticRegression\n",
    "from sklearn.ensemble import RandomForestClassifier\n",
    "from sklearn.metrics import classification_report\n",
    "import utils\n",
    "from joblib import load\n",
    "import numpy as np\n",
    "import seaborn as sns\n",
    "from sklearn.metrics import (\n",
    "    accuracy_score, f1_score, precision_score, recall_score, confusion_matrix, classification_report, ConfusionMatrixDisplay\n",
    ")\n",
    "import matplotlib.pyplot as plt\n",
    "pd.set_option('display.max_columns', 30)\n",
    "plt.style.use('ggplot')"
   ]
  },
  {
   "cell_type": "code",
   "execution_count": null,
   "metadata": {},
   "outputs": [],
   "source": [
    "X_test, y_test = utils.load_dataset(\"../dataset/test.csv\")\n",
    "X_test, _ = utils.scale_data(X_test, X_test)\n",
    "\n",
    "# shuffle the data\n",
    "X_test = X_test.sample(frac=1, random_state=42)\n",
    "y_test = y_test.sample(frac=1, random_state=42)"
   ]
  },
  {
   "cell_type": "code",
   "execution_count": null,
   "metadata": {},
   "outputs": [],
   "source": [
    "model_avg = load('../model/model_fedavg.joblib')\n",
    "model_median = load('../model/model_fedmedian.joblib')\n",
    "model_trimmed = load('../model/model_fedtrimmedavg.joblib')\n",
    "model_krum = load('../model/model_krum.joblib')\n",
    "\n",
    "y_pred_avg = model_avg.predict(X_test)\n",
    "y_pred_median = model_median.predict(X_test)\n",
    "y_pred_trimmed = model_trimmed.predict(X_test)\n",
    "y_pred_krum = model_krum.predict(X_test)"
   ]
  },
  {
   "cell_type": "code",
   "execution_count": null,
   "metadata": {},
   "outputs": [],
   "source": [
    "print(classification_report(y_test, y_pred_avg))\n",
    "print('='*50)\n",
    "print(classification_report(y_test, y_pred_median))\n",
    "print('='*50)\n",
    "print(classification_report(y_test, y_pred_trimmed))\n",
    "print('='*50)\n",
    "print(classification_report(y_test, y_pred_krum))"
   ]
  },
  {
   "cell_type": "code",
   "execution_count": null,
   "metadata": {},
   "outputs": [],
   "source": [
    "def generate_report(y_test, y_pred, title):\n",
    "    acc_score = accuracy_score(y_test, y_pred)\n",
    "    f1 = f1_score(y_test, y_pred, average=None)\n",
    "    precision = precision_score(y_test, y_pred, average=None)\n",
    "    recall = recall_score(y_test, y_pred, average=None)\n",
    "\n",
    "    print(f\"Accuracy: {acc_score:.2%}\\n\\\n",
    "    F1 Score: {dict(zip(model_avg.classes_, map(lambda x: f'{x:.2%}', f1)))}\\n\\\n",
    "    Precision Score: {dict(zip(model_avg.classes_, map(lambda x: f'{x:.2%}', precision)))}\\n\\\n",
    "    Recall Score: {dict(zip(model_avg.classes_, map(lambda x: f'{x:.2%}', recall)))}\\n\\\n",
    "    \")\n",
    "\n",
    "    cm = confusion_matrix(y_test, y_pred)\n",
    "    cm_norm = confusion_matrix(y_test, y_pred, normalize=\"true\")\n",
    "    annot = np.array([f\"{i}\\n({g:.1%})\" for i, g in zip(cm.flatten(), cm_norm.flatten())])\n",
    "    annot = annot.reshape(cm.shape)\n",
    "\n",
    "    fig = plt.figure(dpi=90)\n",
    "    sns.heatmap(cm, annot=annot, fmt=\"\", xticklabels=[\"Poor\", \"Standard\", \"Good\"], yticklabels=[\"Poor\", \"Standard\", \"Good\"])\n",
    "    plt.title(title)\n",
    "    plt.ylabel('Actual')\n",
    "    plt.xlabel('Predicted')\n",
    "    plt.show()"
   ]
  },
  {
   "cell_type": "code",
   "execution_count": null,
   "metadata": {},
   "outputs": [],
   "source": [
    "generate_report(y_test, y_pred_avg, \"FedAvg\")\n",
    "generate_report(y_test, y_pred_median, \"FedMedian\")\n",
    "generate_report(y_test, y_pred_trimmed, \"FedTrimmedAvg\")\n",
    "generate_report(y_test, y_pred_krum, \"Krum\")"
   ]
  }
 ],
 "metadata": {
  "kernelspec": {
   "display_name": "venv",
   "language": "python",
   "name": "python3"
  },
  "language_info": {
   "codemirror_mode": {
    "name": "ipython",
    "version": 3
   },
   "file_extension": ".py",
   "mimetype": "text/x-python",
   "name": "python",
   "nbconvert_exporter": "python",
   "pygments_lexer": "ipython3",
   "version": "3.11.5"
  }
 },
 "nbformat": 4,
 "nbformat_minor": 2
}
