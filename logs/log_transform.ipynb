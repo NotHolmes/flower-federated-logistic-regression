{
 "cells": [
  {
   "cell_type": "code",
   "execution_count": 3,
   "metadata": {},
   "outputs": [],
   "source": [
    "import re\n",
    "import pandas as pd"
   ]
  },
  {
   "cell_type": "code",
   "execution_count": 4,
   "metadata": {},
   "outputs": [],
   "source": [
    "# Function to extract data from a single log entry\n",
    "def extract_data(log_entry):\n",
    "    lines = log_entry.splitlines()\n",
    "\n",
    "    data = []\n",
    "    for line in lines:\n",
    "        # Look for loss line\n",
    "        loss_match = re.search(r\"app_fit: losses_centralized \\[(.+)\\]\", line)\n",
    "        if loss_match:\n",
    "            losses_str = loss_match.group(1)\n",
    "            losses = re.findall(r\"\\((\\d+), (\\d+\\.\\d+)\\)\", losses_str)\n",
    "            for round_str, loss_str in losses:\n",
    "                round_num = int(round_str)\n",
    "                loss = float(loss_str)\n",
    "                data.append({'round': round_num, 'loss': loss})\n",
    "\n",
    "        # Look for accuracy line\n",
    "        accuracy_match = re.search(r\"app_fit: metrics_centralized \\{'accuracy': \\[(.+)\\]\\}\", line)\n",
    "        if accuracy_match:\n",
    "            accuracies_str = accuracy_match.group(1)\n",
    "            accuracies = re.findall(r\"\\((\\d+), (\\d+\\.\\d+)\\)\", accuracies_str)\n",
    "            for round_str, accuracy_str in accuracies:\n",
    "                round_num = int(round_str)\n",
    "                accuracy = float(accuracy_str)\n",
    "                # Find the existing data point for this round and add accuracy\n",
    "                for item in data:\n",
    "                    if item['round'] == round_num:\n",
    "                        item['accuracy'] = accuracy\n",
    "                        break\n",
    "\n",
    "    return data"
   ]
  },
  {
   "cell_type": "code",
   "execution_count": 7,
   "metadata": {},
   "outputs": [],
   "source": [
    "EXPERIMENT = '100c_100r_nosample'\n",
    "ALGORITHM = 'fedkrum'\n",
    "\n",
    "# Read the log file (replace with the correct file path)\n",
    "with open(f'{EXPERIMENT}/{ALGORITHM}_log.txt', 'r') as f:\n",
    "    log_data = f.read() \n",
    "\n",
    "# Split entries based on a line containing 'Starting Flower server,'\n",
    "log_entries = re.split(r'(?m)^.*Starting Flower server,.*\\n?', log_data)\n",
    "\n",
    "# Process all entries and combine data \n",
    "all_data = []\n",
    "num_count = 1\n",
    "for entry in log_entries:\n",
    "    if entry:  # Skip empty entries\n",
    "        extracted_data = extract_data(entry)\n",
    "        for item in extracted_data:\n",
    "            item['exp_num'] = num_count \n",
    "        all_data += extracted_data\n",
    "        num_count += 1\n",
    "\n",
    "# Create a Pandas DataFrame\n",
    "df = pd.DataFrame(all_data)\n",
    "df = df[['exp_num', 'round', 'loss', 'accuracy']]\n",
    "\n",
    "# Export to Excel (replace with your desired name)\n",
    "df.to_excel(f'{EXPERIMENT}/transformed/{ALGORITHM}_{EXPERIMENT}.xlsx', index=False)"
   ]
  }
 ],
 "metadata": {
  "kernelspec": {
   "display_name": "venv",
   "language": "python",
   "name": "python3"
  },
  "language_info": {
   "codemirror_mode": {
    "name": "ipython",
    "version": 3
   },
   "file_extension": ".py",
   "mimetype": "text/x-python",
   "name": "python",
   "nbconvert_exporter": "python",
   "pygments_lexer": "ipython3",
   "version": "3.11.5"
  }
 },
 "nbformat": 4,
 "nbformat_minor": 2
}
