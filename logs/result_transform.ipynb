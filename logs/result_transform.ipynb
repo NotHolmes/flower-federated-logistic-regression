{
 "cells": [
  {
   "cell_type": "code",
   "execution_count": 44,
   "metadata": {},
   "outputs": [],
   "source": [
    "import pandas as pd\n",
    "import re"
   ]
  },
  {
   "cell_type": "code",
   "execution_count": 45,
   "metadata": {},
   "outputs": [],
   "source": [
    "EXPERIMENT = '100c_10r_nosample'\n",
    "ALGORITHM = 'avg'\n",
    "HEADER = 'Avg'\n",
    "\n",
    "# Sample raw text (replace with your file reading logic if necessary)\n",
    "with open(f\"{EXPERIMENT}/{ALGORITHM}_result.txt\", \"r\") as f:\n",
    "    raw_text = f.read()\n",
    "\n",
    "# Split into blocks\n",
    "blocks = raw_text.split(HEADER)"
   ]
  },
  {
   "cell_type": "code",
   "execution_count": 46,
   "metadata": {},
   "outputs": [],
   "source": [
    "# Create lists to store data\n",
    "algorithm = []\n",
    "accuracy = []\n",
    "f1_0 = []\n",
    "f1_1 = []\n",
    "f1_2 = []\n",
    "precision_0 = []\n",
    "precision_1 = []\n",
    "precision_2 = []\n",
    "recall_0 = []\n",
    "recall_1 = []\n",
    "recall_2 = []\n",
    "\n",
    "counter = 1\n",
    "# Process each block\n",
    "for block in blocks[1:]:\n",
    "    lines = block.strip().splitlines()\n",
    "    algorithm.append(f'{ALGORITHM}#{counter}')  # Assuming each block repeats algorithm\n",
    "    accuracy.append(lines[0].split(':')[1].strip().strip('%'))\n",
    "\n",
    "    # Extract metrics using regular expressions\n",
    "    for line in lines[1:]:\n",
    "        if 'F1 Score' in line:\n",
    "            scores = re.findall(r\"(\\d+\\.\\d+)%\", line)\n",
    "            f1_0.append(scores[0])\n",
    "            f1_1.append(scores[1])\n",
    "            f1_2.append(scores[2])\n",
    "        elif 'Precision' in line:\n",
    "            scores = re.findall(r\"(\\d+\\.\\d+)%\", line)\n",
    "            precision_0.append(scores[0])\n",
    "            precision_1.append(scores[1])\n",
    "            precision_2.append(scores[2])\n",
    "        elif 'Recall' in line:\n",
    "            scores = re.findall(r\"(\\d+\\.\\d+)%\", line)\n",
    "            recall_0.append(scores[0])\n",
    "            recall_1.append(scores[1])\n",
    "            recall_2.append(scores[2])\n",
    "            \n",
    "    counter +=1\n",
    "\n",
    "# Create DataFrame    \n",
    "data = {\n",
    "    \"Algorithm\": algorithm,\n",
    "    \"Accuracy\": accuracy,\n",
    "    \"F1 Score (0)\": f1_0,\n",
    "    \"F1 Score (1)\": f1_1,\n",
    "    \"F1 Score (2)\": f1_2,\n",
    "    \"Precision (0)\": precision_0,\n",
    "    \"Precision (1)\": precision_1,\n",
    "    \"Precision (2)\": precision_2,\n",
    "    \"Recall (0)\": recall_0,\n",
    "    \"Recall (1)\": recall_1,\n",
    "    \"Recall (2)\": recall_2\n",
    "}\n",
    "df = pd.DataFrame(data)"
   ]
  },
  {
   "cell_type": "code",
   "execution_count": 41,
   "metadata": {},
   "outputs": [],
   "source": [
    "# Save to Excel\n",
    "df.to_excel(f\"{ALGORITHM}_results.xlsx\", index=False) "
   ]
  }
 ],
 "metadata": {
  "kernelspec": {
   "display_name": "venv",
   "language": "python",
   "name": "python3"
  },
  "language_info": {
   "codemirror_mode": {
    "name": "ipython",
    "version": 3
   },
   "file_extension": ".py",
   "mimetype": "text/x-python",
   "name": "python",
   "nbconvert_exporter": "python",
   "pygments_lexer": "ipython3",
   "version": "3.11.5"
  }
 },
 "nbformat": 4,
 "nbformat_minor": 2
}
