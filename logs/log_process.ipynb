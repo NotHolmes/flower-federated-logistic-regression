{
 "cells": [
  {
   "cell_type": "code",
   "execution_count": 29,
   "metadata": {},
   "outputs": [],
   "source": [
    "import pandas as pd\n",
    "from matplotlib import pyplot as plt\n",
    "\n",
    "EXPERIMENT = '100c_100r_nosample'\n",
    "\n",
    "avg_log = pd.read_excel(f'{EXPERIMENT}/transformed/fedavg_{EXPERIMENT}.xlsx')\n",
    "trim_log = pd.read_excel(f'{EXPERIMENT}/transformed/fedtrimmedavg_{EXPERIMENT}.xlsx')\n",
    "krum_log = pd.read_excel(f'{EXPERIMENT}/transformed/fedkrum_{EXPERIMENT}.xlsx')"
   ]
  },
  {
   "cell_type": "code",
   "execution_count": 108,
   "metadata": {},
   "outputs": [],
   "source": [
    "# def plot_exp(df):\n",
    "#     # Choose the first exp\n",
    "#     exp_num = df[df['exp_num'] == 1]\n",
    "\n",
    "#     plt.plot(exp_num['round'], exp_num['loss'], label='Loss')\n",
    "#     plt.plot(exp_num['round'], exp_num['accuracy'], label='Accuracy')\n",
    "\n",
    "#     plt.xlabel('Round')\n",
    "#     plt.ylabel('Values')\n",
    "#     plt.legend()\n",
    "\n",
    "#     plt.show()"
   ]
  },
  {
   "cell_type": "code",
   "execution_count": 52,
   "metadata": {},
   "outputs": [],
   "source": [
    "def check_convergence(df):\n",
    "    # Calculate percentage change\n",
    "    df['loss_pct_change'] = df['loss'].pct_change() * 100\n",
    "    df['accuracy_pct_change'] = df['accuracy'].pct_change() * 100\n",
    "\n",
    "    # Define convergence tolerances\n",
    "    loss_threshold = 5 \n",
    "    accuracy_threshold = 5\n",
    "    epochs_to_check = 10\n",
    "\n",
    "    converged_epochs = []\n",
    "    for exp_num, exp_data in df.groupby('exp_num'):\n",
    "        for i in range(len(exp_data) - epochs_to_check + 1):\n",
    "            loss_converged = all(abs(pct_change) <= loss_threshold for pct_change in exp_data['loss_pct_change'].iloc[i:i + epochs_to_check])\n",
    "            accuracy_converged = all(abs(pct_change) <= accuracy_threshold for pct_change in exp_data['accuracy_pct_change'].iloc[i:i + epochs_to_check])\n",
    "\n",
    "            if loss_converged and accuracy_converged:\n",
    "                start_epoch = exp_data.iloc[i]['round']\n",
    "                converged_epochs.append(start_epoch)\n",
    "                print(f\"Experiment {exp_num} started converging at epoch: {start_epoch}\")\n",
    "                break\n",
    "    \n",
    "    print(\"Average epochs to convergence:\", sum(converged_epochs) / len(converged_epochs))"
   ]
  },
  {
   "cell_type": "code",
   "execution_count": 53,
   "metadata": {},
   "outputs": [
    {
     "name": "stdout",
     "output_type": "stream",
     "text": [
      "Experiment 1 started converging at epoch: 4.0\n",
      "Experiment 2 started converging at epoch: 5.0\n",
      "Experiment 3 started converging at epoch: 4.0\n",
      "Experiment 4 started converging at epoch: 5.0\n",
      "Experiment 5 started converging at epoch: 4.0\n",
      "Experiment 6 started converging at epoch: 4.0\n",
      "Experiment 7 started converging at epoch: 4.0\n",
      "Experiment 8 started converging at epoch: 5.0\n",
      "Experiment 9 started converging at epoch: 5.0\n",
      "Experiment 10 started converging at epoch: 4.0\n",
      "Average epochs to convergence: 4.4\n"
     ]
    }
   ],
   "source": [
    "check_convergence(avg_log)"
   ]
  },
  {
   "cell_type": "code",
   "execution_count": 54,
   "metadata": {},
   "outputs": [
    {
     "name": "stdout",
     "output_type": "stream",
     "text": [
      "Experiment 1 started converging at epoch: 5.0\n",
      "Experiment 2 started converging at epoch: 5.0\n",
      "Experiment 3 started converging at epoch: 5.0\n",
      "Experiment 4 started converging at epoch: 4.0\n",
      "Experiment 5 started converging at epoch: 3.0\n",
      "Experiment 6 started converging at epoch: 4.0\n",
      "Experiment 7 started converging at epoch: 4.0\n",
      "Experiment 8 started converging at epoch: 4.0\n",
      "Experiment 9 started converging at epoch: 4.0\n",
      "Experiment 10 started converging at epoch: 5.0\n",
      "Average epochs to convergence: 4.3\n"
     ]
    }
   ],
   "source": [
    "check_convergence(trim_log)"
   ]
  },
  {
   "cell_type": "code",
   "execution_count": 55,
   "metadata": {},
   "outputs": [
    {
     "name": "stdout",
     "output_type": "stream",
     "text": [
      "Experiment 1 started converging at epoch: 3.0\n",
      "Experiment 2 started converging at epoch: 3.0\n",
      "Experiment 3 started converging at epoch: 5.0\n",
      "Experiment 4 started converging at epoch: 9.0\n",
      "Experiment 5 started converging at epoch: 65.0\n",
      "Experiment 6 started converging at epoch: 5.0\n",
      "Experiment 7 started converging at epoch: 3.0\n",
      "Experiment 8 started converging at epoch: 5.0\n",
      "Experiment 9 started converging at epoch: 5.0\n",
      "Experiment 10 started converging at epoch: 5.0\n",
      "Average epochs to convergence: 10.8\n"
     ]
    }
   ],
   "source": [
    "check_convergence(krum_log)"
   ]
  }
 ],
 "metadata": {
  "kernelspec": {
   "display_name": "venv",
   "language": "python",
   "name": "python3"
  },
  "language_info": {
   "codemirror_mode": {
    "name": "ipython",
    "version": 3
   },
   "file_extension": ".py",
   "mimetype": "text/x-python",
   "name": "python",
   "nbconvert_exporter": "python",
   "pygments_lexer": "ipython3",
   "version": "3.11.5"
  }
 },
 "nbformat": 4,
 "nbformat_minor": 2
}
